{
 "metadata": {
  "name": "",
  "signature": "sha256:30c8024f1f06b137b730bac42c85a3494aab5f37e3a04d68a97fe2264471ecef"
 },
 "nbformat": 3,
 "nbformat_minor": 0,
 "worksheets": [
  {
   "cells": [
    {
     "cell_type": "markdown",
     "metadata": {},
     "source": [
      "Probability\n",
      "===\n",
      "Probability is the science of predicting random events.\n",
      "\n",
      "If asked you, what are the chances of picking up a dice at a casino, rolling it and getting a six, you don't need to be a mathmatician to know that the odds are 1 to 5. (This is true also for rolling any other number)\n",
      "\n",
      "We will be dealing with more complex situations in this chapter.\n",
      "\n",
      "Prboability vs Odds\n",
      "---\n",
      "The **Odds** of rolling a six are **1:5** to roll a six, it means that there are 5 possible outcomes of not rolling a six (1 to 5) and 1 situation in which 6 is rolled.\n",
      "\n",
      "The **Probability** of rolling a six, is **1/6**, and that interptetation is that there are 6 possible outcomes, and only one that interests us.\n",
      "\n",
      "The notation is:\n",
      "\n",
      "$$P(dice=6)=\\frac{1}{6}$$\n",
      "\n",
      "Rolling a pair of dices\n",
      "---\n",
      "\n",
      "Two players are playing a game\n",
      "1. The two players roll their dices at the same time\n",
      "1. If the sum of the dices is between 6 and 9 - player 1 wins\n",
      "1. Else, player 2 wins\n",
      "\n",
      "Would you rather play first or second ?"
     ]
    },
    {
     "cell_type": "markdown",
     "metadata": {},
     "source": [
      "Solution 1: Simulate it\n",
      "---"
     ]
    },
    {
     "cell_type": "code",
     "collapsed": false,
     "input": [
      "import random\n",
      "n=1000\n",
      "odds1=0\n",
      "odds2=0\n",
      "while n>0:\n",
      "    dice1=random.randint(1,6)\n",
      "    dice2=random.randint(1,6)\n",
      "    result=dice1+dice2\n",
      "    if result in [6,7,8,9]:\n",
      "        odds1=odds1+1\n",
      "    else:\n",
      "        odds2=odds2+1\n",
      "    n=n-1\n",
      "p1=float(odds1)/(odds1+odds2)\n",
      "print ('There is a {p} probability that player 1 wins'.format(p=p1))"
     ],
     "language": "python",
     "metadata": {},
     "outputs": [
      {
       "output_type": "stream",
       "stream": "stdout",
       "text": [
        "There is a 0.57 probability that player 1 wins\n"
       ]
      }
     ],
     "prompt_number": 58
    },
    {
     "cell_type": "markdown",
     "metadata": {},
     "source": [
      "The larger n is, the more accurate the result is\n",
      "\n",
      "Solution 2: Count outcomes\n",
      "---\n",
      "There are **36** possible outcomes (6 outcomes for each dice).\n",
      "\n",
      "Out of which **20** would be in players 1 favor\n",
      "1. 6=1+5,2+4,3+3,4+2,5+1\n",
      "1. 7=1+6,2+5,3+4,4+3,5+2,6+1\n",
      "1. 8=2+6,3+5,4+4,3+5,6+2\n",
      "1. 9=3+6,4+5,5+4,3+6\n",
      "\n",
      "Therefore the probability of player 1 winning is\n",
      "$$P(sum\\in \\{6,7,8,9\\})=\\frac{20}{36}=\\frac{5}{9}=0.5555\\dots$$"
     ]
    },
    {
     "cell_type": "markdown",
     "metadata": {},
     "source": [
      "We can see that **solution 2** is much more accurate, but what if I miss a possible outcome by mistake ?\n",
      "\n",
      "Let's try to combine those two solutions:\n",
      "\n",
      "Solution 3: Scan the Sample space\n",
      "---\n",
      "A **Sample Space** is a list of the possible outcomes"
     ]
    },
    {
     "cell_type": "code",
     "collapsed": false,
     "input": [
      "all_outcomes=0\n",
      "player1_wins=0\n",
      "for dice1 in range(1,7):\n",
      "    for dice2 in range(1,7):\n",
      "        all_outcomes=all_outcomes+1\n",
      "        if (dice1+dice2) in [6,7,8,9]:\n",
      "            player1_wins=player1_wins+1\n",
      "p1=float(player1_wins)/(all_outcomes)\n",
      "print ('There is a {p} probability that player 1 wins'.format(p=p1))   "
     ],
     "language": "python",
     "metadata": {},
     "outputs": [
      {
       "output_type": "stream",
       "stream": "stdout",
       "text": [
        "There is a 0.555555555556 probability that player 1 wins\n"
       ]
      }
     ],
     "prompt_number": 67
    },
    {
     "cell_type": "markdown",
     "metadata": {},
     "source": [
      "Sample space\n",
      "===\n",
      "A **Sample space** is a"
     ]
    },
    {
     "cell_type": "code",
     "collapsed": false,
     "input": [],
     "language": "python",
     "metadata": {},
     "outputs": []
    },
    {
     "cell_type": "code",
     "collapsed": false,
     "input": [],
     "language": "python",
     "metadata": {},
     "outputs": []
    },
    {
     "cell_type": "code",
     "collapsed": false,
     "input": [],
     "language": "python",
     "metadata": {},
     "outputs": []
    }
   ],
   "metadata": {}
  }
 ]
}
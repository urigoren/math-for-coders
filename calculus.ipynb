{
 "metadata": {
  "name": "",
  "signature": "sha256:c78fccf5418f38a2cb6c7cf2d44a224a428975bd8dfd551b971adda3e608cca9"
 },
 "nbformat": 3,
 "nbformat_minor": 0,
 "worksheets": [
  {
   "cells": [
    {
     "cell_type": "markdown",
     "metadata": {},
     "source": [
      "Basics\n",
      "===\n",
      "Plotting\n",
      "---\n",
      "Lets define the function we will be working on:\n",
      "\n",
      "For example, we choose:\n",
      "$$f(x)=e^{-x^2}$$"
     ]
    },
    {
     "cell_type": "code",
     "collapsed": false,
     "input": [
      "f=lambda x: exp(-x**2)"
     ],
     "language": "python",
     "metadata": {},
     "outputs": [],
     "prompt_number": 24
    },
    {
     "cell_type": "markdown",
     "metadata": {},
     "source": [
      "now, lets plot the graph of the function"
     ]
    },
    {
     "cell_type": "code",
     "collapsed": false,
     "input": [
      "#sample 5 points between -1 and 1\n",
      "x=np.linspace(-1,1,5)\n",
      "x"
     ],
     "language": "python",
     "metadata": {},
     "outputs": [
      {
       "metadata": {},
       "output_type": "pyout",
       "prompt_number": 21,
       "text": [
        "array([-1. , -0.5,  0. ,  0.5,  1. ])"
       ]
      }
     ],
     "prompt_number": 21
    },
    {
     "cell_type": "code",
     "collapsed": false,
     "input": [
      "#evaluate f for each x\n",
      "y=map(f,x)\n",
      "y"
     ],
     "language": "python",
     "metadata": {},
     "outputs": [
      {
       "metadata": {},
       "output_type": "pyout",
       "prompt_number": 22,
       "text": [
        "[0.36787944117144233,\n",
        " 0.77880078307140488,\n",
        " 1.0,\n",
        " 0.77880078307140488,\n",
        " 0.36787944117144233]"
       ]
      }
     ],
     "prompt_number": 22
    },
    {
     "cell_type": "markdown",
     "metadata": {},
     "source": [
      "Once we calculated the x and y arrays, plotting is pretty straight forward"
     ]
    },
    {
     "cell_type": "code",
     "collapsed": false,
     "input": [
      "plot(x,y)"
     ],
     "language": "python",
     "metadata": {},
     "outputs": [
      {
       "metadata": {},
       "output_type": "pyout",
       "prompt_number": 23,
       "text": [
        "[<matplotlib.lines.Line2D at 0x7c5a0b0>]"
       ]
      },
      {
       "metadata": {},
       "output_type": "display_data",
       "png": "[encoded data removed]",
       "text": [
        "<matplotlib.figure.Figure at 0x77ad950>"
       ]
      }
     ],
     "prompt_number": 23
    },
    {
     "cell_type": "markdown",
     "metadata": {},
     "source": [
      "As you can see, 5 points give us a pretty rough image of the function\n",
      "\n",
      "The more data points we add, the more accurate our image\n",
      "\n",
      "For example, when using 50 data points, the resulting image is:"
     ]
    },
    {
     "cell_type": "code",
     "collapsed": false,
     "input": [
      "n=50\n",
      "x=np.linspace(-1,1,n)\n",
      "y=map(f,x)\n",
      "plot(x,y)"
     ],
     "language": "python",
     "metadata": {},
     "outputs": [
      {
       "metadata": {},
       "output_type": "pyout",
       "prompt_number": 29,
       "text": [
        "[<matplotlib.lines.Line2D at 0x82500f0>]"
       ]
      },
      {
       "metadata": {},
       "output_type": "display_data",
       "png": "[encoded data removed]",
       "text": [
        "<matplotlib.figure.Figure at 0x8185af0>"
       ]
      }
     ],
     "prompt_number": 29
    },
    {
     "cell_type": "markdown",
     "metadata": {},
     "source": [
      "We will denote the number of data points as n, and the function we will be analyzing as f throughout this notebook\n",
      "\n",
      "We will assume that the difference between two adjant data points is constant, and we eill denote it as delta\n",
      "\n",
      "$\\Delta=x_{i+1}-x_i$"
     ]
    },
    {
     "cell_type": "code",
     "collapsed": false,
     "input": [
      "delta=x[1]-x[0]"
     ],
     "language": "python",
     "metadata": {},
     "outputs": [],
     "prompt_number": 34
    },
    {
     "cell_type": "markdown",
     "metadata": {},
     "source": [
      "Definite Integrals\n",
      "===\n",
      "Notation\n",
      "---\n",
      "The area between a function f and the x axis, data point a and datapoint b, is called the integral of f\n",
      "$$\\int_a^b{f}$$\n",
      "\n",
      "Concept\n",
      "---\n",
      "\n",
      "The shape that two data points make with the x-axis is a trapezoid\n",
      "\n",
      "The area of a single trapezoid is given by:\n",
      "$$A_i=\\frac{|x_{i+1}-x_{i}||y_{i+1}+y_i|}{2}=\\frac{\\Delta|y_{i+1}+y_i|}{2}$$\n",
      "The area beneath the function can be calculated by summing the area of trapezoids\n",
      "\n",
      "$$\\int_a^b{f}=\\sum{A_i}$$"
     ]
    },
    {
     "cell_type": "code",
     "collapsed": false,
     "input": [
      "b=-1\n",
      "a=1\n",
      "n=5\n",
      "f=lambda x:exp(-x**2)\n",
      "x=np.linspace(a,b,n)\n",
      "y=map(f,x)\n",
      "A=[0.5*delta*abs(y[i+1]+y[i]) for i in range(n-1)]\n",
      "A"
     ],
     "language": "python",
     "metadata": {},
     "outputs": [
      {
       "metadata": {},
       "output_type": "pyout",
       "prompt_number": 57,
       "text": [
        "[0.023401637229445889,\n",
        " 0.036302056797375651,\n",
        " 0.036302056797375651,\n",
        " 0.023401637229445889]"
       ]
      }
     ],
     "prompt_number": 57
    },
    {
     "cell_type": "code",
     "collapsed": false,
     "input": [
      "integral=sum(A)\n",
      "integral"
     ],
     "language": "python",
     "metadata": {},
     "outputs": [
      {
       "metadata": {},
       "output_type": "pyout",
       "prompt_number": 47,
       "text": [
        "0.025800839135859524"
       ]
      }
     ],
     "prompt_number": 47
    },
    {
     "cell_type": "markdown",
     "metadata": {},
     "source": [
      "Lets wrap up everything in a one function:"
     ]
    },
    {
     "cell_type": "code",
     "collapsed": false,
     "input": [
      "def integral(f,a,b,n):\n",
      "    x=np.linspace(a,b,n)\n",
      "    y=map(f,x)\n",
      "    delta=x[1]-x[0]\n",
      "    A=[0.5*delta*abs(y[i+1]+y[i]) for i in range(n-1)]\n",
      "    return sum(A)"
     ],
     "language": "python",
     "metadata": {},
     "outputs": [],
     "prompt_number": 58
    },
    {
     "cell_type": "markdown",
     "metadata": {},
     "source": [
      "Example use of the function\n",
      "\n",
      "As usual, the more data points we add, the more accurate the calculation"
     ]
    },
    {
     "cell_type": "code",
     "collapsed": false,
     "input": [
      "i10=integral(lambda x:exp(-x**2),0,1,10)\n",
      "i10"
     ],
     "language": "python",
     "metadata": {},
     "outputs": [
      {
       "metadata": {},
       "output_type": "pyout",
       "prompt_number": 63,
       "text": [
        "0.74606686791266941"
       ]
      }
     ],
     "prompt_number": 63
    },
    {
     "cell_type": "code",
     "collapsed": false,
     "input": [
      "i100=integral(lambda x:exp(-x**2),0,1,100)\n",
      "i100"
     ],
     "language": "python",
     "metadata": {},
     "outputs": [
      {
       "metadata": {},
       "output_type": "pyout",
       "prompt_number": 64,
       "text": [
        "0.74681787697641844"
       ]
      }
     ],
     "prompt_number": 64
    },
    {
     "cell_type": "markdown",
     "metadata": {},
     "source": [
      "Thus the formal definition of an integral is\n",
      "$$\\int_a^b{f}=lim_{n\\rightarrow\\infty}{\\sum{A_i}}$$\n",
      "\n",
      "In practice, when calculating the integral we choose a large enough n such that the error is below the computer's percision"
     ]
    },
    {
     "cell_type": "markdown",
     "metadata": {},
     "source": [
      "Indefinite Integrals\n",
      "===\n",
      "We already defined a function for calculating definite integrals,\n",
      "\n",
      "The next logical step is to try an evaluate their value mathematically.\n",
      "\n",
      "Let us define:\n",
      "\n",
      "$$F(x)=\\int_0^x{f}$$\n",
      "\n",
      "And F is called the **Primitive function** of f\n",
      "\n",
      "To illustrate the concept, lets start with a simple function\n",
      "$$f(x)=x$$"
     ]
    },
    {
     "cell_type": "code",
     "collapsed": false,
     "input": [
      "#plotting f(x)=x\n",
      "f=lambda x:x\n",
      "n=100\n",
      "x=np.linspace(0,1,n)\n",
      "y=map(f,x)\n",
      "plot(x,y)"
     ],
     "language": "python",
     "metadata": {},
     "outputs": [
      {
       "metadata": {},
       "output_type": "pyout",
       "prompt_number": 66,
       "text": [
        "[<matplotlib.lines.Line2D at 0x85a5e10>]"
       ]
      },
      {
       "metadata": {},
       "output_type": "display_data",
       "png": "[encoded data removed]",
       "text": [
        "<matplotlib.figure.Figure at 0x82eb870>"
       ]
      }
     ],
     "prompt_number": 66
    },
    {
     "cell_type": "markdown",
     "metadata": {},
     "source": [
      "We can use the python function we wrote to calculate the area,\n",
      "\n",
      "However, it is very simple to do this mathematically\n",
      "\n",
      "The function f creates a triangle with the origin, and we can calculate that triangle area by:\n",
      "\n",
      "$$\\int_0^x{f}=A(x)=\\frac{xf(x)}{2}$$\n",
      "Which is\n",
      "$$A(x)=\\frac{xf(x)}{2}=\\frac{x^2}{2}$$\n",
      "In order to verify that, lets plot those two graphs"
     ]
    },
    {
     "cell_type": "code",
     "collapsed": false,
     "input": [
      "#plotting x^2/2\n",
      "F=lambda x:0.5*x**2\n",
      "n=100\n",
      "x=np.linspace(0,1,n)\n",
      "y=map(F,x)\n",
      "plot(x,y)"
     ],
     "language": "python",
     "metadata": {},
     "outputs": [
      {
       "metadata": {},
       "output_type": "pyout",
       "prompt_number": 67,
       "text": [
        "[<matplotlib.lines.Line2D at 0x8673210>]"
       ]
      },
      {
       "metadata": {},
       "output_type": "display_data",
       "png": "[encoded data removed]",
       "text": [
        "<matplotlib.figure.Figure at 0x844c9b0>"
       ]
      }
     ],
     "prompt_number": 67
    },
    {
     "cell_type": "code",
     "collapsed": false,
     "input": [
      "#plotting our integral function\n",
      "f=lambda x:x\n",
      "F=lambda x:integral(f,0,x,100)\n",
      "n=100\n",
      "x=np.linspace(0,1,n)\n",
      "y=map(F,x)\n",
      "plot(x,y)"
     ],
     "language": "python",
     "metadata": {},
     "outputs": [
      {
       "metadata": {},
       "output_type": "pyout",
       "prompt_number": 69,
       "text": [
        "[<matplotlib.lines.Line2D at 0x887ee90>]"
       ]
      },
      {
       "metadata": {},
       "output_type": "display_data",
       "png": "[encoded data removed]",
       "text": [
        "<matplotlib.figure.Figure at 0x8732130>"
       ]
      }
     ],
     "prompt_number": 69
    },
    {
     "cell_type": "markdown",
     "metadata": {},
     "source": [
      "Formally, we denote that\n",
      "$$\\int{xdx}=\\frac{x^2}{2}$$\n",
      "And the definite integral is obtained by:\n",
      "$$\\int_a^b{fdx}=\\int_0^a{fdx}-\\int_0^b{fdx}$$\n",
      "In our case:\n",
      "$$\\int_a^b{xdx}=\\frac{a^2}{2}-\\frac{b^2}{2}$$"
     ]
    },
    {
     "cell_type": "markdown",
     "metadata": {},
     "source": [
      "Not all integrals have a such a nice formula,\n",
      "\n",
      "If an indefinite integral has a formula that describes it, we call it a **closed form**\n",
      "\n",
      "An integral with a closed form is very easy and computally efficient to calculate"
     ]
    },
    {
     "cell_type": "markdown",
     "metadata": {},
     "source": [
      "Some Closed Form Integrals\n",
      "===\n",
      "$$\\int{c dx}=cx$$\n",
      "$$\\int{x^kdx}=\\frac{x^{k+1}}{k+1}$$\n",
      "$$\\int{e^{kx}dx}=\\frac{e^{kx}}{k}$$\n",
      "$$\\int{sin(kx)dx}=-\\frac{cos(kx)}{k}$$\n",
      "$$\\int{cos(kx)dx}=\\frac{sin(kx)}{k}$$"
     ]
    },
    {
     "cell_type": "markdown",
     "metadata": {},
     "source": [
      "Properties of integrals\n",
      "===\n",
      "Integrals have several properties that can help us calculate them easily\n",
      "\n",
      "1. Additive\n",
      "\n",
      "$$\\int{f+g}=\\int{f}+\\int{g}$$\n",
      "\n",
      "1. Muliply by a number\n",
      "\n",
      "$$\\int{\\alpha f}=\\alpha\\int{f}$$\n",
      "\n",
      "1. Anti symmetric\n",
      "$$\\int_a^b{f}=-\\int_b^a{f}$$\n",
      "\n",
      "Polynomial case\n",
      "---\n",
      "A polynomial is a function with the following form:\n",
      "$$p(x)=a_0+a_1x+a_2x^2+\\dots+a_kx^k$$\n",
      "Where\n",
      "$$\\{a_0,a_1,a_2,\\dots,a_k\\}$$\n",
      "Are called the polynomial coefficient, and the polynomial is said to have a degree of k.\n",
      "\n",
      "\n",
      "These properties can help us conclude that for every polynomial is\n",
      "$$\\int{p(x)}=a_0x+\\frac{a_1x^2}{2}+\\frac{a_2x^3}{3}+\\dots+\\frac{a_kx^{k+1}}{k+1}$$"
     ]
    },
    {
     "cell_type": "markdown",
     "metadata": {},
     "source": [
      "Optimizing Our code for polynomials\n",
      "===\n",
      "Since polynomials have a closed form integral, we can use that form to make our code run faster and be more accurate"
     ]
    },
    {
     "cell_type": "code",
     "collapsed": false,
     "input": [
      "def polynomial_integral(coefficients,a,b):\n",
      "    #F is the primitive function of the polynomial\n",
      "    F=lambda x:sum([x**(i+1)*float(coef)/(i+1) for i,coef in enumerate(coefficients)])\n",
      "    return F(a)-F(b)"
     ],
     "language": "python",
     "metadata": {},
     "outputs": [],
     "prompt_number": 79
    },
    {
     "cell_type": "markdown",
     "metadata": {},
     "source": [
      "We can use our code to calculate\n",
      "$$\\int_1^3{(5x^3+2x-1)dx}$$"
     ]
    },
    {
     "cell_type": "code",
     "collapsed": false,
     "input": [
      "polynomial_integral([-1,2,0,5],3,1)"
     ],
     "language": "python",
     "metadata": {},
     "outputs": [
      {
       "metadata": {},
       "output_type": "pyout",
       "prompt_number": 77,
       "text": [
        "106.0"
       ]
      }
     ],
     "prompt_number": 77
    },
    {
     "cell_type": "markdown",
     "metadata": {},
     "source": [
      "Derivates\n",
      "===\n",
      "Derivatives are an extention of the concept of **slope**.\n",
      "\n",
      "Slope\n",
      "---\n",
      "The **Slope** between two points (x1,y1) and (x2,y2) is defined as\n",
      "\n",
      "$$m=\\frac{y_2-y_1}{x_2-x_1}$$\n",
      "\n",
      "Alternatively, the slope of function f between x1 and x2 is defined as\n",
      "$$m=\\frac{f(x_2)-f(x_1)}{x_2-x_1}$$\n",
      "\n",
      "The slope is a measurement of change, the larger the slope is in (absolute value), the greater the change.\n",
      "A positive slope indicates an increase in the function value, and a negative slope indicates a decrease in the function value."
     ]
    },
    {
     "cell_type": "code",
     "collapsed": false,
     "input": [
      "def slope(f,x1,x2):\n",
      "    return (f(x2)-f(x1))/(x2-x1)"
     ],
     "language": "python",
     "metadata": {},
     "outputs": [],
     "prompt_number": 96
    },
    {
     "cell_type": "markdown",
     "metadata": {},
     "source": [
      "Slope of constant functions\n",
      "---\n",
      "A constant function is a function of the form\n",
      "$$y=c$$\n",
      "In other words, no matter that x we choose, the function returns the same value c\n",
      "\n",
      "The **slope** of all constant functions is 0\n",
      "$$m=\\frac{f(x_2)-f(x_1)}{x_2-x_1}=\\frac{c-c}{x_2-x_1}=0$$\n",
      "Which makes sense if we interpret the **slope** as a measurement of change\n",
      "\n",
      "Slope of linear functions\n",
      "---\n",
      "A function of the form\n",
      "$$f(x)=mx+c$$\n",
      "is called a linear function, because when you plot it, you see a straight line"
     ]
    },
    {
     "cell_type": "code",
     "collapsed": false,
     "input": [
      "f=lambda x:2*x+1\n",
      "g=lambda x:-6*x+8\n",
      "x=np.linspace(-1,1,100)\n",
      "y1=map(f,x)\n",
      "y2=map(g,x)\n",
      "plot(x,y1)\n",
      "plot(x,y2)"
     ],
     "language": "python",
     "metadata": {},
     "outputs": [
      {
       "metadata": {},
       "output_type": "pyout",
       "prompt_number": 86,
       "text": [
        "[<matplotlib.lines.Line2D at 0x8bc5bb0>]"
       ]
      },
      {
       "metadata": {},
       "output_type": "display_data",
       "png": "[encoded data removed]",
       "text": [
        "<matplotlib.figure.Figure at 0x8bc5bd0>"
       ]
      }
     ],
     "prompt_number": 86
    },
    {
     "cell_type": "markdown",
     "metadata": {},
     "source": [
      "An interesting property of linear functions, is that the slope is always constant, regardless of the x2 and x1:\n",
      "\n",
      "$$\\frac{f(x_2)-f(x_1)}{x_2-x_1}=\\frac{mx_2+c-mx_1-c}{x_2-x_1}=\\frac{mx_2-mx_1}{x_2-x_1}=\\frac{m(x_2-x_1)}{x_2-x_1}=m$$"
     ]
    },
    {
     "cell_type": "code",
     "collapsed": false,
     "input": [
      "print(slope(lambda x:2*x+3,0,4))\n",
      "print(slope(lambda x:2*x+500,-777,555))"
     ],
     "language": "python",
     "metadata": {},
     "outputs": [
      {
       "output_type": "stream",
       "stream": "stdout",
       "text": [
        "2\n",
        "2\n"
       ]
      }
     ],
     "prompt_number": 90
    },
    {
     "cell_type": "markdown",
     "metadata": {},
     "source": [
      "Derivative\n",
      "---\n",
      "The slope of a function, is a property that depends of **two** points x1 and x2. The **Derivative** is an extention of the slope concept that depends only on **one** point\n",
      "\n",
      "\n",
      "A **Derivative** of function f at point x is the slope between x and x+delta where delta is very close to zero.\n",
      "\n",
      "We denote the **derivative** at point x as f'(x)\n",
      "\n",
      "\n",
      "Formally\n",
      "$$f'(x)=\\frac{f(x+\\Delta)-f(x)}{x+\\Delta-x}=\\frac{f(x+\\Delta)-f(x)}{\\Delta}$$\n",
      "where\n",
      "$$\\Delta\\rightarrow 0$$\n",
      "\n",
      "For our purposes, We can define\n",
      "$$\\Delta=\\frac{1}{n}$$\n",
      "where\n",
      "$$n\\rightarrow \\infty$$"
     ]
    },
    {
     "cell_type": "code",
     "collapsed": false,
     "input": [
      "def derivative(f,x,n):\n",
      "    delta=1/float(n)\n",
      "    return (f(x+delta)-f(x))/delta"
     ],
     "language": "python",
     "metadata": {},
     "outputs": [],
     "prompt_number": 91
    },
    {
     "cell_type": "markdown",
     "metadata": {},
     "source": [
      "The function f whose values are the derivatives of function F is called the **Derived function**, and it is denoted as\n",
      "$$f'$$"
     ]
    },
    {
     "cell_type": "code",
     "collapsed": false,
     "input": [
      "n=100\n",
      "F=lambda x:x**2\n",
      "f=lambda x:derivative(F,x,n)\n",
      "x=np.linspace(-2,2,n)\n",
      "y_F=map(F,x)\n",
      "y_f=map(f,x)\n",
      "plot(x,y_F)\n",
      "plot(x,y_f)"
     ],
     "language": "python",
     "metadata": {},
     "outputs": [
      {
       "metadata": {},
       "output_type": "pyout",
       "prompt_number": 93,
       "text": [
        "[<matplotlib.lines.Line2D at 0x8e17610>]"
       ]
      },
      {
       "metadata": {},
       "output_type": "display_data",
       "png": "[encoded data removed]",
       "text": [
        "<matplotlib.figure.Figure at 0x8e176f0>"
       ]
      }
     ],
     "prompt_number": 93
    },
    {
     "cell_type": "markdown",
     "metadata": {},
     "source": [
      "Deriving by definition\n",
      "---\n",
      "let f be\n",
      "$$f(x)=x^2$$\n",
      "And lets calculate the derivative f' by definition\n",
      "$$f'(x)=\\frac{f(x+\\Delta)-f(x)}{\\Delta}=\\frac{(x+\\Delta)^2-(x)^2}{\\Delta}$$\n",
      "And since we know that\n",
      "$$a^2-b^2=(a-b)(a+b)$$\n",
      "We get that\n",
      "$$(x^2)'=\\frac{((x+\\Delta)-(x))((x+\\Delta)+(x))}{\\Delta}=\\frac{\\Delta(2x+\\Delta)}{\\Delta}=2x+\\Delta$$\n",
      "And since delta is supposed to be very small, we can ignore it, thus:\n",
      "$$(x^2)'=2x$$\n",
      "If the **derived function** can be described so neatly with a simple formula, we say that the derivative has a **closed form**"
     ]
    },
    {
     "cell_type": "markdown",
     "metadata": {},
     "source": [
      "Closed Form Derivatives\n",
      "---\n",
      "$$(c)'=0$$\n",
      "$$(x^{k+1})'=(k+1)x^k$$\n",
      "$$(e^{kx})'=ke^{kx}$$\n",
      "$$(sin(kx))'=kcos(kx)$$\n",
      "$$(cos(kx))'=-ksin(kx)$$"
     ]
    },
    {
     "cell_type": "markdown",
     "metadata": {},
     "source": [
      "Properties of derivatives\n",
      "---\n",
      "1. Additive\n",
      "$$(f+g)'=f'+g'$$\n",
      "1. Multiply by a number\n",
      "$$(\\alpha f)'=\\alpha f'$$"
     ]
    },
    {
     "cell_type": "markdown",
     "metadata": {},
     "source": [
      "Polynomail Case\n",
      "---\n",
      "By applying the rules listed above, for a polynomial\n",
      "$$p(x)=a_0+a_1x+a_2x^2+\\dots+a_kx^k$$\n",
      "We get that\n",
      "$$p'(x)=a_1+2a_2x+3a_3x^2+\\dots+ka_kx^{k-1}$$\n",
      "\n",
      "Optimizing our code for polynomials\n",
      "---"
     ]
    },
    {
     "cell_type": "code",
     "collapsed": false,
     "input": [
      "def derive_polynomial(coefficients,x1):\n",
      "    #f_tag is the derived function\n",
      "    f_tag=lambda x:sum([a*float(i)*(x**(i-1)) for i,a in enumerate(coefficients)])\n",
      "    return f_tag(x1)"
     ],
     "language": "python",
     "metadata": {},
     "outputs": [],
     "prompt_number": 100
    },
    {
     "cell_type": "markdown",
     "metadata": {},
     "source": [
      "For example, the derivative of\n",
      "$$f(x)=x^5+4x^3-x^2+40x-100$$\n",
      "at point x=17 is"
     ]
    },
    {
     "cell_type": "code",
     "collapsed": false,
     "input": [
      "derive_polynomial([-100,40,-1,4,0,5],17)"
     ],
     "language": "python",
     "metadata": {},
     "outputs": [
      {
       "metadata": {},
       "output_type": "pyout",
       "prompt_number": 106,
       "text": [
        "2091499.0"
       ]
      }
     ],
     "prompt_number": 106
    },
    {
     "cell_type": "markdown",
     "metadata": {},
     "source": [
      "The fundamental theorem of calculus\n",
      "===\n",
      "We learned about indefinite integrals, and derived functions, but what do they have in common ?\n",
      "\n",
      "Suprisingly, alot !\n",
      "\n",
      "Derivative of an integral\n",
      "---\n",
      "Lets define g as the derivative of the indefinite integral of f\n",
      "$$g=(\\int{f})'$$\n",
      "\n",
      "And plot them on the same graph"
     ]
    },
    {
     "cell_type": "code",
     "collapsed": false,
     "input": [
      "n=100\n",
      "f=lambda x:x**2\n",
      "g=lambda x:derivative(lambda t:integral(f,0,t,n),x,n)\n",
      "x=np.linspace(-2,2,n)\n",
      "y_f=map(f,x)\n",
      "y_g=map(g,x)\n",
      "plot(x,y_g)\n",
      "plot(x,y_f)"
     ],
     "language": "python",
     "metadata": {},
     "outputs": [
      {
       "metadata": {},
       "output_type": "pyout",
       "prompt_number": 95,
       "text": [
        "[<matplotlib.lines.Line2D at 0x8cee690>]"
       ]
      },
      {
       "metadata": {},
       "output_type": "display_data",
       "png": "[encoded data removed]",
       "text": [
        "<matplotlib.figure.Figure at 0x8fd79b0>"
       ]
      }
     ],
     "prompt_number": 95
    },
    {
     "cell_type": "markdown",
     "metadata": {},
     "source": [
      "The fundamental theorem of calculus states, that the derived function of an integral, is the original function\n",
      "$$f=(\\int{f})'$$\n",
      "always !\n",
      "\n",
      "As can be seen in practice\n",
      "\n",
      "Switching places\n",
      "---\n",
      "The other way around is more tricky:\n",
      "\n",
      "Given a function f, let F be its primitive function.\n",
      "\n",
      "let us define G as F plus a constant number c\n",
      "$$G(x)=F(x)+c$$\n",
      "\n",
      "We can see that after deriving both functions, we get the same result:\n",
      "\n",
      "$$F'(x)=G'(x)=f(x)$$\n",
      "\n",
      "However, **The fundamental theorem of calculs** states the difference between any two primitive functions is a constant:\n",
      "\n",
      "$$f=\\int{(f')}+c$$\n",
      "for some constant c\n"
     ]
    },
    {
     "cell_type": "markdown",
     "metadata": {},
     "source": [
      "Excercises\n",
      "===\n",
      "For the following excercises, use the data range between -10 and -1\n",
      "\n",
      "1. Plot the graph of\n",
      "$$f(x)=\\frac{-1}{x^2}$$\n",
      "\n",
      "2. Plot the graph of the primitive function of f\n",
      "$$F(x)=\\int{\\frac{-1}{x^2}}$$\n",
      "\n",
      "3. Plot the graph of g\n",
      "$$g(x)=\\frac{1}{x}$$\n",
      "\n",
      "4. Plot the graph of the derivative of g\n",
      "$$g'(x)=(\\frac{1}{x})'$$\n",
      "\n",
      "5. Prove by definition that\n",
      "$$(\\frac{1}{x})'=\\frac{-1}{x^2}$$\n",
      "\n",
      "6. Use the **fundamental theorem of calculus** to prove that\n",
      "$$\\int\\frac{-1}{x^2}dx=\\frac{1}{x}+c$$"
     ]
    }
   ],
   "metadata": {}
  }
 ]
}
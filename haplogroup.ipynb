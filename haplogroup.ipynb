{
 "cells": [
  {
   "cell_type": "markdown",
   "metadata": {},
   "source": [
    "Haplogroup convergence\n",
    "===\n",
    "In human genetics, the haplogroups most commonly studied are Y-chromosome (Y-DNA) haplogroups and mitochondrial DNA (mtDNA) haplogroups, both of which can be used to define genetic populations. Y-DNA is passed solely along the patrilineal line.\n",
    "\n",
    "Simply put, The haplo group is a property that is passed from father to son unchanged, with very few mutation along the way.\n",
    "\n",
    "Yet, even without evolutionary pressure, we can understand that due to the randomness of sexual selection, a group starting with $n$ different haplogroups, would eventually converge to only $1$.\n",
    "\n",
    "**The question is, how fast will it converge ?**"
   ]
  },
  {
   "cell_type": "markdown",
   "metadata": {},
   "source": [
    "Monte carlo approach\n",
    "---\n",
    "The MC approach, is simply simulating the sexual selection in each generation and looking at the number of different haplogroups in each generation.\n",
    "\n",
    "We start with $n$ men and $n$ women and in each generation we randomize $n$ sons and $n$ daughters that would be born to random chosen parents."
   ]
  },
  {
   "cell_type": "code",
   "execution_count": 1,
   "metadata": {
    "collapsed": false
   },
   "outputs": [],
   "source": [
    "from random import randint\n",
    "class haplogroup_mc:\n",
    "    def __init__(self,n):\n",
    "        self.n=n\n",
    "        self.generation=0\n",
    "        self.men=range(n)\n",
    "    def reproduce(self):\n",
    "        self.generation+=1\n",
    "        new_men=[]\n",
    "        new_women=[]\n",
    "        for i in range(self.n):\n",
    "            father=self.men[randint(0,self.n-1)]\n",
    "            new_men.append(father)\n",
    "        self.men=new_men\n",
    "    def converged(self):\n",
    "        first=self.men[0]\n",
    "        for m in self.men:\n",
    "            if m!=first:\n",
    "                return False\n",
    "        return True\n",
    "    def run_until_convergence(self):\n",
    "        while not self.converged():\n",
    "            self.reproduce()\n",
    "        return self.generation"
   ]
  },
  {
   "cell_type": "code",
   "execution_count": 2,
   "metadata": {
    "collapsed": false
   },
   "outputs": [],
   "source": [
    "def num_of_generations_until_convergence(population_size,iteration_count=1000):\n",
    "    generation_sum=0\n",
    "    for i in range(iteration_count):\n",
    "        h=haplogroup_mc(population_size)\n",
    "        generation_sum+=h.run_until_convergence()\n",
    "    generation_avg=float(generation_sum)/iteration_count\n",
    "    return generation_avg"
   ]
  },
  {
   "cell_type": "code",
   "execution_count": 3,
   "metadata": {
    "collapsed": false
   },
   "outputs": [],
   "source": [
    "import numpy as np\n",
    "from sklearn import linear_model\n",
    "def lin_reg(x,y):\n",
    "    linreg=linear_model.LinearRegression(fit_intercept=True)\n",
    "    linreg.fit([[x_] for x_ in x],y)\n",
    "    slope=linreg.coef_[0]\n",
    "    intercept=np.mean(x)\n",
    "    return (\"Y={a}*n + {b}\".format(a=slope,b=intercept))"
   ]
  },
  {
   "cell_type": "markdown",
   "metadata": {},
   "source": [
    "The results of the simulation looks linear, running a linear regression yields:\n",
    "$$y\\approx 2.01n$$"
   ]
  },
  {
   "cell_type": "code",
   "execution_count": 8,
   "metadata": {
    "collapsed": false
   },
   "outputs": [
    {
     "name": "stdout",
     "output_type": "stream",
     "text": [
      "Y=2.01568669302*n + 27.0\n"
     ]
    }
   ],
   "source": [
    "import matplotlib.pyplot as plt\n",
    "x=range(5,50)\n",
    "y=map(num_of_generations_until_convergence,x)\n",
    "plt.plot(x,y)\n",
    "print (lin_reg(x,y))"
   ]
  },
  {
   "cell_type": "code",
   "execution_count": 10,
   "metadata": {
    "collapsed": false
   },
   "outputs": [
    {
     "name": "stdout",
     "output_type": "stream",
     "text": [
      "Y=1.97355393939*n + 50.0\n"
     ]
    }
   ],
   "source": [
    "x=range(5,100,10)\n",
    "y=map(num_of_generations_until_convergence,x)\n",
    "plt.plot(x,y)\n",
    "print (lin_reg(x,y))"
   ]
  },
  {
   "cell_type": "markdown",
   "metadata": {},
   "source": [
    "Mathematical approach\n",
    "---\n",
    "\n",
    "\n",
    "Given a set $S$ such that $|S|=n$\n",
    "\n",
    "For $x\\in S$ define $A_x$ to be the event that $x\\in T$.\n",
    "\n",
    "Then $|T|=\\sum_{x\\in S} 1_{A_x}$ which has expected value\n",
    "$$\\mathbb{E}(X)=\\sum_{x\\in S} \\mathbb{P}(A_x)=n\\left[1-\\left(1-{1\\over n}\\right)^n\\right]\\approx n(1-e^{-1})$$\n",
    "Lets verify this approximation using one generation MC:"
   ]
  },
  {
   "cell_type": "code",
   "execution_count": 114,
   "metadata": {
    "collapsed": false
   },
   "outputs": [
    {
     "name": "stdout",
     "output_type": "stream",
     "text": [
      "(63.6, 63.212055882855765)\n"
     ]
    }
   ],
   "source": [
    "from random import randint\n",
    "from math import e\n",
    "n=100\n",
    "mc_iterations=1000\n",
    "mc_avg=0\n",
    "for i in xrange(mc_iterations):\n",
    "    mc_val=len(set([randint(0,n-1) for i in xrange(n)]))\n",
    "    mc_avg+=mc_val\n",
    "mc_avg/=float(trials)\n",
    "expected=n*(1-1/e)\n",
    "print ((avg_mc,expected))"
   ]
  },
  {
   "cell_type": "markdown",
   "metadata": {},
   "source": [
    "Number of generations until convergence\n",
    "---\n",
    "$$n(1-\\frac{1}{e})^g\\leq 1$$\n",
    "$$g\\ln(1-\\frac{1}{e})\\leq \\ln\\frac{1}{n}$$\n",
    "$$g\\geq \\frac{\\ln\\frac{1}{n}}{\\ln(1-\\frac{1}{e})}$$\n",
    "$$g\\geq \\frac{\\ln{n}}{\\ln(\\frac{e}{e-1})}$$\n",
    "$$g\\geq \\frac{\\ln{n}}{1-\\ln(e-1)}$$"
   ]
  },
  {
   "cell_type": "code",
   "execution_count": 3,
   "metadata": {
    "collapsed": false
   },
   "outputs": [
    {
     "data": {
      "text/plain": [
       "10.040156377127712"
      ]
     },
     "execution_count": 3,
     "metadata": {},
     "output_type": "execute_result"
    }
   ],
   "source": [
    "from math import log,e\n",
    "n=100\n",
    "g=log(n)/(1-log(e-1))\n",
    "g"
   ]
  },
  {
   "cell_type": "markdown",
   "metadata": {},
   "source": [
    "The mathematical analysis shows that the number of generation is actually logarithmic !\n",
    "\n",
    "With $2.18$ as the scale parameter"
   ]
  },
  {
   "cell_type": "code",
   "execution_count": 7,
   "metadata": {
    "collapsed": false
   },
   "outputs": [
    {
     "data": {
      "text/plain": [
       "2.180192256016155"
      ]
     },
     "execution_count": 7,
     "metadata": {},
     "output_type": "execute_result"
    }
   ],
   "source": [
    "1/(1-log(e-1))"
   ]
  }
 ],
 "metadata": {
  "kernelspec": {
   "display_name": "Python 2",
   "language": "python",
   "name": "python2"
  },
  "language_info": {
   "codemirror_mode": {
    "name": "ipython",
    "version": 2
   },
   "file_extension": ".py",
   "mimetype": "text/x-python",
   "name": "python",
   "nbconvert_exporter": "python",
   "pygments_lexer": "ipython2",
   "version": "2.7.8"
  }
 },
 "nbformat": 4,
 "nbformat_minor": 0
}

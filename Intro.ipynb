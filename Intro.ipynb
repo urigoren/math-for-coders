{
 "metadata": {
  "name": "",
  "signature": "sha256:c513651b5908a5159fab0dcc3c07589c8aa7a44e6e479f35daf67436cfbe7ab6"
 },
 "nbformat": 3,
 "nbformat_minor": 0,
 "worksheets": [
  {
   "cells": [
    {
     "cell_type": "markdown",
     "metadata": {},
     "source": [
      "About this book\n",
      "===\n",
      "Breadth first\n",
      "---\n",
      "This book takes an unconventional approach of teaching math.\n",
      "\n",
      "I assume, you, the reader, are already familiar with python (or a similar programming language) and using this knoweldge, we are going to embark on a journey across many fields of mathematics.\n",
      "\n",
      "Unlike the standard way of learning math, we will see several applications of mathematical concepts, without letting the definitions bother us.\n",
      "\n",
      "My goal is to fuel your enthusiasm, and have you reading the formal definitions elsewhere.\n",
      "\n",
      "Math is an optimization of code\n",
      "---\n",
      "I believe that most algorithmic problems can be solved with a naive algorithm, with bad performance.\n",
      "\n",
      "Learning math is crucial to speed up and optimize your code.\n",
      "\n",
      "In the chapters of the book, I usually start with the solution of the general problem, and them optimize it with math.\n",
      "\n",
      "Example: Sum all the numbers between 1 and n\n",
      "---"
     ]
    },
    {
     "cell_type": "code",
     "collapsed": false,
     "input": [
      "def naive_sum(n):\n",
      "    s=0\n",
      "    for i in range(n):\n",
      "        s=s+i\n",
      "    return s\n",
      "\n",
      "def math_sum(n):\n",
      "    return n*(n+1)/2"
     ],
     "language": "python",
     "metadata": {},
     "outputs": [],
     "prompt_number": 1
    },
    {
     "cell_type": "markdown",
     "metadata": {},
     "source": [
      "Both solutions yield the same result,\n",
      "yet the naive solution does n computation steps, and the mathematical solution does only 1"
     ]
    },
    {
     "cell_type": "markdown",
     "metadata": {},
     "source": [
      "Mathemtical symbols\n",
      "===\n",
      "Math has alot of scary symbols that we need to get to know\n",
      "\n",
      "Indexing\n",
      "---\n",
      "Much like a python lists, the notation\n",
      "$$\\{a_i\\}$$\n",
      "states that for each value of i, we have a different element $$a_i$$\n",
      "Sum\n",
      "---\n",
      "The sigma sign, is basically an abbreviation of summing...\n",
      "$$\\sum_{i=0}^{i=n}{a_i}=a_0+a_1+a_2+\\dots+a_n$$\n",
      "\n",
      "Multiply\n",
      "---\n",
      "Similarly, the capital pi is multiplication\n",
      "$$\\Pi_{i=0}^{i=n}{a_i}=a_0a_1a_2\\dots a_n$$\n",
      "\n",
      "Python Goodies\n",
      "===\n",
      "I will be using several concepts in python to simplify the code\n",
      "\n",
      "List comprehention\n",
      "---\n",
      "given a list l, the following line is shorthand for iterating the list and applying a function on it"
     ]
    },
    {
     "cell_type": "code",
     "collapsed": false,
     "input": [
      "l=[-1,1,2,3,4]\n",
      "[s*3 for s in l if s>0]"
     ],
     "language": "python",
     "metadata": {},
     "outputs": [
      {
       "metadata": {},
       "output_type": "pyout",
       "prompt_number": 2,
       "text": [
        "[3, 6, 9, 12]"
       ]
      }
     ],
     "prompt_number": 2
    },
    {
     "cell_type": "markdown",
     "metadata": {},
     "source": [
      "The equivalent without list comprehension is:"
     ]
    },
    {
     "cell_type": "code",
     "collapsed": false,
     "input": [
      "l=[-1,1,2,3,4]\n",
      "r=[]\n",
      "for s in l:\n",
      "    if s>0:\n",
      "        r.append(s*3)\n",
      "r"
     ],
     "language": "python",
     "metadata": {},
     "outputs": [
      {
       "metadata": {},
       "output_type": "pyout",
       "prompt_number": 8,
       "text": [
        "[3, 6, 9, 12]"
       ]
      }
     ],
     "prompt_number": 8
    },
    {
     "cell_type": "markdown",
     "metadata": {},
     "source": [
      "Lambda expressions\n",
      "---\n",
      "lamda expressions are a shorthand for a one line function that can access global variables\n",
      "\n",
      "for example:"
     ]
    },
    {
     "cell_type": "code",
     "collapsed": false,
     "input": [
      "n=1\n",
      "n_plus=lambda x:x+n\n",
      "print (n_plus(10))\n",
      "n=10\n",
      "print(n_plus(10))"
     ],
     "language": "python",
     "metadata": {},
     "outputs": [
      {
       "output_type": "stream",
       "stream": "stdout",
       "text": [
        "11\n",
        "20\n"
       ]
      }
     ],
     "prompt_number": 5
    },
    {
     "cell_type": "markdown",
     "metadata": {},
     "source": [
      "The variable declared after the **lambda** keyword and before the colons, are parameters, and any other variable will be assigned from the global scope at the time the function will be called.\n",
      "\n",
      "It is roughly equivalent to:"
     ]
    },
    {
     "cell_type": "code",
     "collapsed": false,
     "input": [
      "n=1\n",
      "def n_plus(x):\n",
      "    global n\n",
      "    return x+n"
     ],
     "language": "python",
     "metadata": {},
     "outputs": [],
     "prompt_number": 6
    },
    {
     "cell_type": "markdown",
     "metadata": {},
     "source": [
      "Reduce\n",
      "---\n",
      "Similarly to list comprehension, sometimes we want to calculate a single value out of a list.\n",
      "\n",
      "For example, using this reduce operation we calculate the average of an array"
     ]
    },
    {
     "cell_type": "code",
     "collapsed": false,
     "input": [
      "l=[1,2,4,8]\n",
      "avg=reduce(lambda x,y:x+y/float(len(l)),l,0)\n",
      "avg"
     ],
     "language": "python",
     "metadata": {},
     "outputs": [
      {
       "metadata": {},
       "output_type": "pyout",
       "prompt_number": 11,
       "text": [
        "3.75"
       ]
      }
     ],
     "prompt_number": 11
    },
    {
     "cell_type": "markdown",
     "metadata": {},
     "source": [
      "Which is equivalent to:"
     ]
    },
    {
     "cell_type": "code",
     "collapsed": false,
     "input": [
      "avg=0\n",
      "for y in l:\n",
      "    avg=avg+y/float(len(l))\n",
      "avg"
     ],
     "language": "python",
     "metadata": {},
     "outputs": [
      {
       "metadata": {},
       "output_type": "pyout",
       "prompt_number": 12,
       "text": [
        "3.75"
       ]
      }
     ],
     "prompt_number": 12
    }
   ],
   "metadata": {}
  }
 ]
}
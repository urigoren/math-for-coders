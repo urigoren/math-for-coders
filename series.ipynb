{
 "metadata": {
  "name": "",
  "signature": "sha256:4af619fc406071f50f45fb0c45e08cbd2e7b697c89149679cdeddc59a622c5aa"
 },
 "nbformat": 3,
 "nbformat_minor": 0,
 "worksheets": [
  {
   "cells": [
    {
     "cell_type": "markdown",
     "metadata": {},
     "source": [
      "Sequence\n",
      "===\n",
      "The general definition **Sequence** is an infinitely long ordered collection of numbers.\n",
      "$$\\{a_0,a_1,a_2,\\dots\\}$$\n",
      "Sample sequences:\n",
      "---\n",
      "1. Even numbers (2,4,6,8,10,...)\n",
      "1. Prime numbers (3,5,7,11,13,...)\n",
      "1. Powers of 1/2 (1,1/2,1/4,1/8,...)\n",
      "\n",
      "Each number in the sequence is referred as **member** or **element**\n",
      "\n",
      "While will focus only on sequences that could be described with a **Recursion**\n",
      "Recursive sequence\n",
      "===\n",
      "A **Recursive sequence** is a sequence that only a finite nubmer of elements need to be given, and the rest of them can be derived using a **Recursion Rule**\n",
      "\n",
      "Example: Odd Numbers\n",
      "---\n",
      "The Odd numbers can be described as\n",
      "$$a_0=1$$\n",
      "$$a_{n}=a_{n-1}+2$$\n",
      "\n",
      "The first few elements that are called the **Basis** of the recursion, in the Odd numbers case, the basis is\n",
      "$$\\{a_0=1\\}$$\n",
      "\n",
      "Example: Fibbonacci Numbers\n",
      "---\n",
      "$$f_0=0$$\n",
      "$$f_1=1$$\n",
      "$$f_{n}=f_{n}+f_{n-1}$$\n",
      "\n",
      "Here we can see the the Fibonacci sequence has 2 elemnts in its basis\n",
      "$$\\{0,1\\}$$\n",
      "\n",
      "\n",
      "The first 10 Fibonacci elements can be calculated with this code:"
     ]
    },
    {
     "cell_type": "code",
     "collapsed": false,
     "input": [
      "def fibonacci(n):\n",
      "    if n==0:\n",
      "        return 0\n",
      "    if n==1:\n",
      "        return 1\n",
      "    return fibonacci(n-1)+fibonacci(n-2)"
     ],
     "language": "python",
     "metadata": {},
     "outputs": [],
     "prompt_number": 3
    },
    {
     "cell_type": "code",
     "collapsed": false,
     "input": [
      "[fibonacci(i) for i in range(12)]"
     ],
     "language": "python",
     "metadata": {},
     "outputs": [
      {
       "metadata": {},
       "output_type": "pyout",
       "prompt_number": 5,
       "text": [
        "[0, 1, 1, 2, 3, 5, 8, 13, 21, 34, 55, 89]"
       ]
      }
     ],
     "prompt_number": 5
    },
    {
     "cell_type": "markdown",
     "metadata": {},
     "source": [
      "Arithmetic Sequence\n",
      "===\n",
      "An **Arithmetic sequence** is a recursive sequence with the following recursion rule:\n",
      "$$a_n=a_{n-1}+d$$\n",
      "In order to define an arithmetic sequence, we need to specify only the differnce (d) and the first element (a0)\n",
      "Examples:\n",
      "---\n",
      "1. The Odd numbers are an arithmetic sequence: a0=1,d=2\n",
      "1. The numbers that can be divided by 7  (0,7,14,21,28...): a0=0,d=7\n",
      "1. The numbers whose unit digit is 3 (3,13,23,33,..,): a0=3,d=10\n",
      "\n",
      "In python, generating an arithmetic sequence can be done with the \"range\" function"
     ]
    },
    {
     "cell_type": "code",
     "collapsed": false,
     "input": [
      "range(3,100,10)"
     ],
     "language": "python",
     "metadata": {},
     "outputs": [
      {
       "metadata": {},
       "output_type": "pyout",
       "prompt_number": 9,
       "text": [
        "[3, 13, 23, 33, 43, 53, 63, 73, 83, 93]"
       ]
      }
     ],
     "prompt_number": 9
    },
    {
     "cell_type": "markdown",
     "metadata": {},
     "source": [
      "Solving The Arithmetic recursion\n",
      "---\n",
      "**Solving** a recursion is comming up with a closed-form expression that describes all of the sequence's elements.\n",
      "\n",
      "In the arithmetic case, given a0, d and the index of the element:\n",
      "$$a_{n}=a_0+dn$$"
     ]
    },
    {
     "cell_type": "markdown",
     "metadata": {},
     "source": [
      "Geometric Sequence\n",
      "---\n",
      "a Geometric sequence is a recursive sequence with the following recursion rule:\n",
      "$$a_n=a_{n-1}q$$\n",
      "\n",
      "Example\n",
      "---\n",
      "1. Powers of 3: a0=1, q=3\n",
      "2. Divisions by 2: a_0=1,q=0.5\n",
      "\n",
      "Solving the geometric recursion\n",
      "---\n",
      "The closed form expression of element n is:\n",
      "$$a_n=a_{0}q^{n}$$"
     ]
    },
    {
     "cell_type": "code",
     "collapsed": false,
     "input": [
      "[3**n for n in range(0,10)]"
     ],
     "language": "python",
     "metadata": {},
     "outputs": [
      {
       "metadata": {},
       "output_type": "pyout",
       "prompt_number": 10,
       "text": [
        "[1, 3, 9, 27, 81, 243, 729, 2187, 6561, 19683]"
       ]
      }
     ],
     "prompt_number": 10
    },
    {
     "cell_type": "markdown",
     "metadata": {},
     "source": [
      "Linear recursion\n",
      "===\n",
      "A Linear recursion is a recursive sequence whose recurive rule has the form:\n",
      "$$a_n=\\alpha_0+\\alpha_{1}a_{n-1}+\\alpha_{1}a_{n-2}+\\dots+\\alpha_{k}a_{n-k}$$\n",
      "For Basis of a given:\n",
      "$$\\{a_0,a_1,\\dots,a_{k-1}\\}$$\n",
      "Both the **Arithmetic** and **Geometric** sequences are **Linear recursion** sequences.\n",
      "\n",
      "It is useful to know, that all linear recursion sequences can be solved.\n",
      "\n",
      "The general solution falls outside the scope of this book, but it is describes here:\n",
      "\n",
      "http://www.eecs.yorku.ca/course_archive/2008-09/S/1019/Website_files/21-linear-recurrences.pdf"
     ]
    },
    {
     "cell_type": "markdown",
     "metadata": {},
     "source": [
      "Series\n",
      "===\n",
      "A series is defined to be a sum of a sequence from 0 and on.\n",
      "$$S_n=a_0+a_1+\\dots+a_{n-1}+a_n$$\n",
      "Note that the sum of elements between k and n, is given by:\n",
      "$$S_n-S_{k-1}=a_k+a_{k+1}+a_{k+2}+\\dots+a_{n-1}+a_n$$"
     ]
    },
    {
     "cell_type": "markdown",
     "metadata": {},
     "source": [
      "Arithmetic Series\n",
      "---\n",
      "As The name suggests, an arithmetic series is the sum of an arithmetic sequence.\n",
      "\n",
      "Before we dive in to the formulas and closed-form expressions, lets start with a short exersise:\n",
      "Excercise:\n",
      "---\n",
      "Write a python function called \"sum_first_last\"\n",
      "1. The function will get an array A as a parameter,\n",
      "1. It will print the sum of the first and last elements\n",
      "1. The return value will be the array without its first and last elements"
     ]
    },
    {
     "cell_type": "code",
     "collapsed": false,
     "input": [
      "def sum_first_last(A):\n",
      "    if len(A)==0:\n",
      "        return []\n",
      "    elif len(A)==1:\n",
      "        print 2*A[0]\n",
      "        return []\n",
      "    print (A[0]+A[-1])\n",
      "    return A[1:-1]"
     ],
     "language": "python",
     "metadata": {},
     "outputs": [],
     "prompt_number": 18
    },
    {
     "cell_type": "markdown",
     "metadata": {},
     "source": [
      "Now lets apply this function repeatedly on an arithmetic sequence:"
     ]
    },
    {
     "cell_type": "code",
     "collapsed": false,
     "input": [
      "A=range(0,100,3)\n",
      "while len(A)>0:\n",
      "    A=sum_first_last(A)"
     ],
     "language": "python",
     "metadata": {},
     "outputs": [
      {
       "output_type": "stream",
       "stream": "stdout",
       "text": [
        "99\n",
        "99\n",
        "99\n",
        "99\n",
        "99\n",
        "99\n",
        "99\n",
        "99\n",
        "99\n",
        "99\n",
        "99\n",
        "99\n",
        "99\n",
        "99\n",
        "99\n",
        "99\n",
        "99\n"
       ]
      }
     ],
     "prompt_number": 19
    },
    {
     "cell_type": "markdown",
     "metadata": {},
     "source": [
      "As you can see, the value printed is the same in each row.\n",
      "\n",
      "This property is the key to understanding how to solve an **Arithmetic Series**\n",
      "\n",
      "The sum of all the rows together, should be the sum of the entire sequence.\n",
      "\n",
      "There n/2 rows, each of them is equal to a0+an.\n",
      "\n",
      "Thus\n",
      "$$S_n=\\frac{n}{2}(a_0+a_n)$$\n",
      "\n",
      "Interestingly, if n is odd the result still holds (think why)"
     ]
    },
    {
     "cell_type": "markdown",
     "metadata": {},
     "source": [
      "Geometric Series\n",
      "===\n",
      "Much like the aruthmetic series, the **Geometric Series** is the sum of the elements of the **Geometric Sequence** from 0 to n\n",
      "$$S_n=a_0+a_1+a_2+\\dots+a_n=a0+a_0q+a_0q^2+\\dots+a_0q^n=a_0(1+q+q^2+\\dots+q^n)$$\n",
      "Convergence\n",
      "---\n",
      "Similarly, we can define this series to infinity:\n",
      "$$S=S_\\infty=a_0(1+q+q^2+\\dots)$$\n",
      "We say that the series **converges** to the **limit** S, if S is equal to some finite number.\n",
      "\n",
      "Excercise\n",
      "---\n",
      "Calculate the limit of geometric series with\n",
      "$$a_0=1,q=\\frac{1}{2}$$"
     ]
    },
    {
     "cell_type": "code",
     "collapsed": false,
     "input": [
      "def geometric_series(a0,q,n):\n",
      "    S=0\n",
      "    while(n>=0):\n",
      "        S=S+a0*q**n\n",
      "        n=n-1\n",
      "    return S\n",
      "\n",
      "n=1000#very big number\n",
      "print (geometric_series(1.0,0.5,n))"
     ],
     "language": "python",
     "metadata": {},
     "outputs": [
      {
       "output_type": "stream",
       "stream": "stdout",
       "text": [
        "2.0\n"
       ]
      }
     ],
     "prompt_number": 1
    },
    {
     "cell_type": "markdown",
     "metadata": {},
     "source": [
      "Note that that if\n",
      "$$q>1$$\n",
      "then\n",
      "$$a_n>a_{n-1}$$\n",
      "Therefore, each element is greater than the previous one, and the sum keeps on increasing as we add more elements.\n",
      "Thus, the series will not converge."
     ]
    },
    {
     "cell_type": "markdown",
     "metadata": {},
     "source": [
      "Solving the Geometric Series\n",
      "---\n",
      "Note that\n",
      "$$S=a_0(1+q+q^2+\\dots)$$\n",
      "and\n",
      "$$qS=a_0(q+q^2+\\dots)$$\n",
      "Lets take a look at their difference:\n",
      "$$S-qS=a_0$$\n",
      "Therefore we can conclude that:\n",
      "$$S=\\frac{a_0}{1-q}$$\n",
      "\n",
      "And for the finite case,\n",
      "$$S_n=a_0+a_0q+a_0q^2+\\dots+a_0q^n=(a_0+a_0q+a_0q^2+\\dots)-(a_0q^{n+1}+a_0q^{n+2}+a_0q^{n+3}+\\dots)=\\frac{a_0(1-q^{n+1})}{1-q}$$\n",
      "\n",
      "Excercise\n",
      "---\n",
      "Write a program that gets two parameters:\n",
      "1. q\n",
      "1. epsilon\n",
      "\n",
      "Such that\n",
      "$$-1<q<1$$\n",
      "\n",
      "And returns a number N that satisfies:\n",
      "$$|S-S_N|=|\\frac{a_0}{1-q}-(a_0+a_0q+a_0q^2+\\dots+a_N)|<epsilon$$"
     ]
    },
    {
     "cell_type": "code",
     "collapsed": false,
     "input": [
      "def geometric_limit(a0,q,epsilon):\n",
      "    diff=abs(a0/(1-q)-a0)\n",
      "    N=0\n",
      "    while epsilon<diff:\n",
      "        N=N+1\n",
      "        diff=abs(a0/(1-q)-geometric_series(a0,q,N))\n",
      "    return N\n",
      "\n",
      "geometric_limit(1,0.5,0.001)"
     ],
     "language": "python",
     "metadata": {},
     "outputs": [
      {
       "metadata": {},
       "output_type": "pyout",
       "prompt_number": 4,
       "text": [
        "10"
       ]
      }
     ],
     "prompt_number": 4
    },
    {
     "cell_type": "markdown",
     "metadata": {},
     "source": [
      "Convergence (Formal definition)\n",
      "===\n",
      "We seen that the geometric series converge if |q|<1.\n",
      "\n",
      "Now it's time to formally define **convergence** of a series\n",
      "\n",
      "We say that series\n",
      "$$\\{a_i\\}_{i=0}^{i=\\infty}$$\n",
      "Converges to L, if and only if for every epsilon>0 we choose, exits a number N such that\n",
      "$$|L-\\sum_{i=0}^{i=N}{a_i}|<\\epsilon$$\n",
      "\n",
      "\n",
      "Example: Telescopic series\n",
      "---\n",
      "We already seen that the geometric series converges.\n",
      "\n",
      "Lets take a look at:\n",
      "\n",
      "$$a_n=\\frac{1}{n}-\\frac{1}{n+1}$$\n",
      "\n",
      "When we add the elements of an together, they cancel out:\n",
      "\n",
      "$s_n=\\sum_{i=0}^{i=n}{a_n}=1-\\frac{1}{2}+\\frac{1}{2}-\\frac{1}{3}+\\dots+\\frac{1}{n}-\\frac{1}{n+1}=1-\\frac{1}{n+1}$\n",
      "\n",
      "Therefore, if we denote L=1:\n",
      "\n",
      "$$|L-s_n|=|1-1+\\frac{1}{N}|=\\frac{1}{N}$$\n",
      "\n",
      "Can be smaller that any number we might choose (if we choose a large enough N)\n",
      "\n",
      "And thus, the telescopic series converges to 1"
     ]
    }
   ],
   "metadata": {}
  }
 ]
}